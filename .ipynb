Title: Project 7: Apply Supervised Machine Learning - Simple Linear Regression
Author: Tesfamariam
Link: https://github.com/Tesfamariam100/datafun-07-applied

